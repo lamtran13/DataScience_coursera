{
 "cells": [
  {
   "cell_type": "markdown",
   "id": "f9597ea0-1ca8-43f9-ad2e-c5ae6fc343f4",
   "metadata": {},
   "source": [
    "# Data Science Tools and Ecosystem"
   ]
  },
  {
   "cell_type": "markdown",
   "id": "6ae3a822-4ff2-4f62-98cb-bbf65243acd2",
   "metadata": {},
   "source": [
    "In this notebook, Data Science Tools and Ecosystem are summarized."
   ]
  },
  {
   "cell_type": "markdown",
   "id": "cbb8980e-12c5-4897-ae58-21994b4e7774",
   "metadata": {},
   "source": [
    "Some of the popular languages that Data Scientists use are:\n",
    "\n",
    "1. Python\n",
    "2. R\n",
    "3. SQL\n",
    "4. Scala\n",
    "5. Java\n",
    "6. C++ \n",
    "7. Julia"
   ]
  },
  {
   "cell_type": "markdown",
   "id": "9ba523c0-09eb-4b0c-b799-2c679133026d",
   "metadata": {},
   "source": [
    "Some of the commonly used libraries used by Data Scientists include:\n",
    "1. Pandas\n",
    "2. Numpy\n",
    "3. Matplotlib\n",
    "4. Seaborn"
   ]
  },
  {
   "cell_type": "markdown",
   "id": "0d03ef7e-166a-4626-b115-033c6c3ac61b",
   "metadata": {},
   "source": [
    "Data Science Tools:\n",
    "|Data Science Tools|\n",
    "|------------------|\n",
    "|Jupyter|\n",
    "|Weka|\n",
    "|Java-ML|\n",
    "|RStudio|"
   ]
  },
  {
   "cell_type": "markdown",
   "id": "42d1c41e-850f-4adc-8d6d-b92123724f6f",
   "metadata": {},
   "source": [
    "### Below are a few examples of evaluating arithmetic expressions in Python"
   ]
  },
  {
   "cell_type": "code",
   "execution_count": 5,
   "id": "3c3bd2de-cbac-4f8f-962c-f3d1c4702782",
   "metadata": {},
   "outputs": [
    {
     "data": {
      "text/plain": [
       "17"
      ]
     },
     "execution_count": 5,
     "metadata": {},
     "output_type": "execute_result"
    }
   ],
   "source": [
    "#This a simple arithmetic expression to mutiply then add integer\n",
    "(3*4)+5"
   ]
  },
  {
   "cell_type": "code",
   "execution_count": 6,
   "id": "9c711008-52ce-47d5-9188-df2bff9aeed2",
   "metadata": {},
   "outputs": [
    {
     "data": {
      "text/plain": [
       "33.333333333333336"
      ]
     },
     "execution_count": 6,
     "metadata": {},
     "output_type": "execute_result"
    }
   ],
   "source": [
    "#This will convert 200 minutes to hours by diving by 60\n",
    "200 / 6"
   ]
  },
  {
   "cell_type": "markdown",
   "id": "454fbc56-0d07-42c1-9cfd-342ae7a36b6e",
   "metadata": {},
   "source": [
    "**Objectives:**\n",
    "- Overview of Data Science tools\n",
    "- Languages of Data Science\n",
    "- Jupyter Notebooks and JupyterLab\n",
    "- RStudio & GitHub"
   ]
  },
  {
   "cell_type": "markdown",
   "id": "1e5385a3-cb0b-4340-ba4a-2804dd843efa",
   "metadata": {},
   "source": [
    "## Author\n",
    "Lam Tran"
   ]
  }
 ],
 "metadata": {
  "kernelspec": {
   "display_name": "Python 3 (ipykernel)",
   "language": "python",
   "name": "python3"
  },
  "language_info": {
   "codemirror_mode": {
    "name": "ipython",
    "version": 3
   },
   "file_extension": ".py",
   "mimetype": "text/x-python",
   "name": "python",
   "nbconvert_exporter": "python",
   "pygments_lexer": "ipython3",
   "version": "3.9.13"
  }
 },
 "nbformat": 4,
 "nbformat_minor": 5
}
